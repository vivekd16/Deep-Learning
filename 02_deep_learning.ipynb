{
  "cells": [
    {
      "cell_type": "markdown",
      "metadata": {
        "colab_type": "text",
        "id": "view-in-github"
      },
      "source": [
        "<a href=\"https://colab.research.google.com/github/vivekd16/Deep-Learning/blob/main/02_deep_learning.ipynb\" target=\"_parent\"><img src=\"https://colab.research.google.com/assets/colab-badge.svg\" alt=\"Open In Colab\"/></a>"
      ]
    },
    {
      "cell_type": "code",
      "execution_count": null,
      "metadata": {
        "id": "lb5K7r76IHsX"
      },
      "outputs": [],
      "source": [
        "#neural network classification"
      ]
    },
    {
      "cell_type": "code",
      "execution_count": null,
      "metadata": {
        "id": "DUZF4PI_wW3T"
      },
      "outputs": [],
      "source": [
        "from sklearn.datasets import make_circles\n",
        "\n",
        "n_samples=1000\n",
        "X,y=make_circles(n_samples,noise=0.03,random_state=42)"
      ]
    },
    {
      "cell_type": "code",
      "execution_count": null,
      "metadata": {
        "colab": {
          "base_uri": "https://localhost:8080/"
        },
        "id": "L9LEERTIw3sM",
        "outputId": "748e109d-b71c-407e-9897-b1857e57aa29"
      },
      "outputs": [],
      "source": [
        "len(X),len(y)"
      ]
    },
    {
      "cell_type": "code",
      "execution_count": null,
      "metadata": {
        "colab": {
          "base_uri": "https://localhost:8080/"
        },
        "id": "tc2nXHFuxCFW",
        "outputId": "a5745d32-2f85-4d92-d150-08d2fd8e83d9"
      },
      "outputs": [],
      "source": [
        "print(X[:5])\n",
        "print(y[:5])"
      ]
    },
    {
      "cell_type": "code",
      "execution_count": null,
      "metadata": {
        "colab": {
          "base_uri": "https://localhost:8080/",
          "height": 363
        },
        "id": "Azm0pu8RxMbA",
        "outputId": "bf64ce0e-6a68-4019-ef0d-bd996acae316"
      },
      "outputs": [],
      "source": [
        "import pandas as pd\n",
        "circles=pd.DataFrame({\"X1\":X[:,0],\"X2\":X[:,1],\"label\":y})\n",
        "circles.head(10)"
      ]
    },
    {
      "cell_type": "code",
      "execution_count": null,
      "metadata": {
        "colab": {
          "base_uri": "https://localhost:8080/",
          "height": 447
        },
        "id": "JMVs-Clox3KK",
        "outputId": "fd45974a-42c7-4aa0-9853-d19c5dc6d9bb"
      },
      "outputs": [],
      "source": [
        "import matplotlib.pyplot as plt\n",
        "plt.scatter(x=X[:,0],y=X[:,1],c=y,\n",
        "            cmap=plt.cm.RdYlBu)"
      ]
    },
    {
      "cell_type": "code",
      "execution_count": null,
      "metadata": {
        "colab": {
          "base_uri": "https://localhost:8080/"
        },
        "id": "iNOOwBJu3eFw",
        "outputId": "83ef458f-fb82-4174-9c13-50964f2c73b2"
      },
      "outputs": [],
      "source": [
        "X.shape,y.shape"
      ]
    },
    {
      "cell_type": "code",
      "execution_count": null,
      "metadata": {
        "colab": {
          "base_uri": "https://localhost:8080/"
        },
        "id": "F-pRoJ5o3_58",
        "outputId": "9a1f7131-a49d-4a80-d6fd-ade3ef9a80ed"
      },
      "outputs": [],
      "source": [
        "X[0],y[0]"
      ]
    },
    {
      "cell_type": "code",
      "execution_count": null,
      "metadata": {
        "id": "Cgl8V0Fa4Ekn"
      },
      "outputs": [],
      "source": [
        "import torch"
      ]
    },
    {
      "cell_type": "code",
      "execution_count": null,
      "metadata": {
        "colab": {
          "base_uri": "https://localhost:8080/"
        },
        "id": "0qRUJQKL4T5n",
        "outputId": "e59dc54f-e517-4c90-e033-771b1a7fccd7"
      },
      "outputs": [],
      "source": [
        "type(X)"
      ]
    },
    {
      "cell_type": "code",
      "execution_count": null,
      "metadata": {
        "id": "sPHjaaR64cSR"
      },
      "outputs": [],
      "source": [
        "X=torch.from_numpy(X).type(torch.float)"
      ]
    },
    {
      "cell_type": "code",
      "execution_count": null,
      "metadata": {
        "id": "atEithfZ4irL"
      },
      "outputs": [],
      "source": [
        "y=torch.from_numpy(y).type(torch.float)"
      ]
    },
    {
      "cell_type": "code",
      "execution_count": null,
      "metadata": {
        "colab": {
          "base_uri": "https://localhost:8080/"
        },
        "id": "YFkPoaNr4pI9",
        "outputId": "697e3a36-7d86-4b01-f981-35ff17c47d96"
      },
      "outputs": [],
      "source": [
        "type(X),X.dtype,y.dtype"
      ]
    },
    {
      "cell_type": "code",
      "execution_count": null,
      "metadata": {
        "id": "i12YEQSr4wIE"
      },
      "outputs": [],
      "source": [
        "from sklearn.model_selection import train_test_split"
      ]
    },
    {
      "cell_type": "code",
      "execution_count": null,
      "metadata": {
        "id": "x3-1r_r64_8r"
      },
      "outputs": [],
      "source": [
        "X_train,X_test,y_train,y_test=train_test_split(X,y,test_size=0.2,random_state=42)"
      ]
    },
    {
      "cell_type": "code",
      "execution_count": null,
      "metadata": {
        "colab": {
          "base_uri": "https://localhost:8080/"
        },
        "id": "X0WjlkXP5kAC",
        "outputId": "02166b09-2af4-464b-a977-bdeeb87e67c4"
      },
      "outputs": [],
      "source": [
        "len(X_train),len(X_test)"
      ]
    },
    {
      "cell_type": "code",
      "execution_count": null,
      "metadata": {
        "colab": {
          "base_uri": "https://localhost:8080/",
          "height": 35
        },
        "id": "hreyD_Uh5uPJ",
        "outputId": "0c4eb01b-1907-4ee8-9b66-bd08e7f01545"
      },
      "outputs": [],
      "source": [
        "import torch\n",
        "from torch import nn\n",
        "device =\"cuda\" if torch.cuda.is_available() else \"cpu\"\n",
        "device"
      ]
    },
    {
      "cell_type": "code",
      "execution_count": null,
      "metadata": {
        "colab": {
          "base_uri": "https://localhost:8080/"
        },
        "id": "3oXaI3HaEx6C",
        "outputId": "126d55e6-ef50-47d3-e0bc-f3678147f6d7"
      },
      "outputs": [],
      "source": [
        "class circlemodelv0(nn.Module):\n",
        "  def __init__(self):\n",
        "    super().__init__()\n",
        "    self.layer_1=nn.Linear(in_features=2,out_features=5)\n",
        "    self.layer_2=nn.Linear(in_features=5,out_features=1)\n",
        "  def forward(self,x):\n",
        "    return self.layer_2(self.layer_1(x))\n",
        "model_0=circlemodelv0().to(device)\n",
        "model_0"
      ]
    },
    {
      "cell_type": "code",
      "execution_count": null,
      "metadata": {
        "colab": {
          "base_uri": "https://localhost:8080/"
        },
        "id": "miapMUWIHsFP",
        "outputId": "472d2640-5928-48aa-934a-3a54232af789"
      },
      "outputs": [],
      "source": [
        "model_0=nn.Sequential(nn.Linear(in_features=2,out_features=5,bias=True),nn.Linear(in_features=5,out_features=1,bias=True)).to(device)\n",
        "model_0"
      ]
    },
    {
      "cell_type": "code",
      "execution_count": null,
      "metadata": {
        "colab": {
          "base_uri": "https://localhost:8080/"
        },
        "id": "bAG6lyLRKv-_",
        "outputId": "d64dbdc0-dcd0-403d-b6d2-8afc916aa29c"
      },
      "outputs": [],
      "source": [
        "model_0.state_dict()"
      ]
    },
    {
      "cell_type": "code",
      "execution_count": null,
      "metadata": {
        "colab": {
          "base_uri": "https://localhost:8080/"
        },
        "id": "aZ4tSzT4L4v7",
        "outputId": "57540191-b9d9-4944-ea5a-d3d85434cc11"
      },
      "outputs": [],
      "source": [
        "with torch.inference_mode():\n",
        "  untrained_preds=model_0(X_test.to(device))\n",
        "[len(untrained_preds),untrained_preds.shape,len(X_test),X_test.shape,untrained_preds[:10],y_test[:10]]"
      ]
    },
    {
      "cell_type": "code",
      "execution_count": null,
      "metadata": {
        "id": "FpPq7FVIZpeg"
      },
      "outputs": [],
      "source": [
        "loss_fn=nn.BCEWithLogitsLoss()\n",
        "optimizer=torch.optim.SGD(params=model_0.parameters(),lr=0.1)"
      ]
    },
    {
      "cell_type": "code",
      "execution_count": null,
      "metadata": {
        "id": "EcEWC2G3abNw"
      },
      "outputs": [],
      "source": [
        "def accuracy_fn(y_true,y_preds):\n",
        "  correct=torch.eq(y_true,y_preds).sum().item()\n",
        "  acc=(correct/len(y_preds))*100\n",
        "  return acc"
      ]
    },
    {
      "cell_type": "code",
      "execution_count": null,
      "metadata": {
        "colab": {
          "base_uri": "https://localhost:8080/",
          "height": 35
        },
        "id": "jWpMj21_a9j_",
        "outputId": "806484e1-e406-4af4-c665-f691068d2e77"
      },
      "outputs": [],
      "source": [
        "device"
      ]
    },
    {
      "cell_type": "code",
      "execution_count": null,
      "metadata": {
        "colab": {
          "base_uri": "https://localhost:8080/"
        },
        "id": "eMnltNVr97QL",
        "outputId": "2405ea57-62e2-41f7-9256-e7bde6fcb701"
      },
      "outputs": [],
      "source": [
        "!nvidia-smi"
      ]
    },
    {
      "cell_type": "code",
      "execution_count": null,
      "metadata": {
        "id": "Sw5htjZp-Nos"
      },
      "outputs": [],
      "source": [
        "#training loop"
      ]
    },
    {
      "cell_type": "code",
      "execution_count": null,
      "metadata": {
        "colab": {
          "base_uri": "https://localhost:8080/"
        },
        "id": "HCwXz0P4-Ua2",
        "outputId": "f4ba09ab-1416-4552-fb6b-1dab38da5a81"
      },
      "outputs": [],
      "source": [
        "torch.cuda.manual_seed=42\n",
        "epochs=1000\n",
        "X_train,y_train=X_train.to(device),y_train.to(device)\n",
        "X_test,y_test=X_test.to(device),y_test.to(device)\n",
        "\n",
        "for epoch in range(epochs):\n",
        "  model_0.train()\n",
        "  y_logits=model_0(X_train).squeeze()\n",
        "  y_preds=torch.round(torch.sigmoid(y_logits))\n",
        "  loss=loss_fn(y_logits,y_train)\n",
        "  acc=accuracy_fn(y_true=y_train,y_preds=y_preds)\n",
        "  optimizer.zero_grad()\n",
        "  loss.backward()\n",
        "  optimizer.step()\n",
        "  model_0.eval()\n",
        "  with torch.inference_mode():\n",
        "    test_logits=model_0(X_test).squeeze()\n",
        "    test_preds=torch.round(torch.sigmoid(test_logits))\n",
        "    test_loss=loss_fn(test_logits,y_test)\n",
        "    test_acc=accuracy_fn(y_true=y_test,y_preds=test_preds)\n",
        "  if epoch%10==0:\n",
        "    print(f\"epoch:{epoch} | loss:{loss:.5f},acc:{acc:.2f}| test_loss:{test_loss:.5f},test_acc:{test_acc:.2f}\")"
      ]
    },
    {
      "cell_type": "code",
      "execution_count": null,
      "metadata": {
        "colab": {
          "base_uri": "https://localhost:8080/"
        },
        "id": "3eJSaoE8ECbJ",
        "outputId": "e98c2c6c-2590-43b5-d5a7-3a54dbf5e562"
      },
      "outputs": [],
      "source": [
        "from urllib import request\n",
        "import requests\n",
        "from pathlib import Path\n",
        "\n",
        "if Path(\"helper_functions.py\").is_file():\n",
        "  print(\"helper_functions.py already exists\")\n",
        "else:\n",
        "  print(\"downloading helper_functions.py\")\n",
        "  request=requests.get(\"https://raw.githubusercontent.com/mrdbourke/pytorch-deep-learning/main/helper_functions.py\")\n",
        "  with open(\"helper_functions.py\",\"wb\") as f:\n",
        "    f.write(request.content)\n",
        "  from helper_functions import plot_predictions,plot_decision_boundary"
      ]
    },
    {
      "cell_type": "code",
      "execution_count": null,
      "metadata": {
        "colab": {
          "base_uri": "https://localhost:8080/",
          "height": 460
        },
        "id": "tm9aNu5A-jtA",
        "outputId": "cfa54fc5-4d89-4fc1-dbf6-a4713537ab9f"
      },
      "outputs": [],
      "source": [
        "plt.figure(figsize=(12,6))\n",
        "plt.subplot(1,2,1)\n",
        "plt.title(\"train\")\n",
        "plot_decision_boundary(model_0,X_train,y_train)\n",
        "plt.subplot(1,2,2)\n",
        "plt.title(\"test\")\n",
        "plot_decision_boundary(model_0,X_test,y_test)"
      ]
    },
    {
      "cell_type": "code",
      "execution_count": null,
      "metadata": {},
      "outputs": [],
      "source": [
        "class circlemodelv1(nn.Module):\n",
        "    def __init__(self):\n",
        "        super().__init__()\n",
        "        self.layer_1=nn.Linear(in_features=2,out_features=10)\n",
        "        self.layer_2=nn.Linear(in_features=10,out_features=10)\n",
        "        self.layer_3=nn.Linear(in_features=10,out_features=1)\n",
        "    def forward(self,x):\n",
        "        z=self.layer_1(x)\n",
        "        z=self.layer_2(z)\n",
        "        z=self.layer_3(z)\n",
        "        return z\n",
        "model_1=circlemodelv1().to(device)\n",
        "model_1\n"
      ]
    },
    {
      "cell_type": "code",
      "execution_count": null,
      "metadata": {},
      "outputs": [],
      "source": [
        "loss_fn=nn.BCEWithLogitsLoss()\n",
        "optimizer=torch.optim.Adam(params=model_1.parameters(),lr=0.01)"
      ]
    },
    {
      "cell_type": "code",
      "execution_count": null,
      "metadata": {},
      "outputs": [],
      "source": [
        "torch.manual_seed(42)\n",
        "epochs=1000\n",
        "X_train,y_train=X_train.to(device),y_train.to(device)\n",
        "X_test,y_test=X_test.to(device),y_test.to(device)\n",
        "\n",
        "for epoch in range(epochs):\n",
        "    model_1.train()\n",
        "    y_logits=model_1(X_train).squeeze()\n",
        "    y_preds=torch.round(torch.sigmoid(y_logits))\n",
        "    loss=loss_fn(y_logits,y_train)\n",
        "    acc=accuracy_fn(y_true=y_train,y_preds=y_preds)\n",
        "    optimizer.zero_grad()\n",
        "    loss.backward()\n",
        "    optimizer.step()\n",
        "    model_1.eval()\n",
        "    with torch.inference_mode():\n",
        "        test_logits=model_1(X_test).squeeze()\n",
        "        test_preds=torch.round(torch.sigmoid(test_logits))\n",
        "        test_loss=loss_fn(test_logits,y_test)\n",
        "        test_acc=accuracy_fn(y_true=y_test,y_preds=test_preds)\n",
        "    if epoch%100==0:\n",
        "        print(f\"epoch:{epoch} | loss:{loss:.5f},acc:{acc:.2f}| test_loss:{test_loss:.5f},test_acc:{test_acc:.2f}\")"
      ]
    },
    {
      "cell_type": "code",
      "execution_count": null,
      "metadata": {},
      "outputs": [],
      "source": [
        "plt.figure(figsize=(12,6))\n",
        "plt.subplot(1,2,1)\n",
        "plt.title(\"train\")\n",
        "plot_decision_boundary(model_1,X_train,y_train)\n",
        "plt.subplot(1,2,2)\n",
        "plt.title(\"test\")\n",
        "plot_decision_boundary(model_0,X_test,y_test)"
      ]
    },
    {
      "cell_type": "code",
      "execution_count": null,
      "metadata": {},
      "outputs": [],
      "source": [
        "from sklearn.datasets import make_circles\n",
        "\n",
        "n_samples=1000\n",
        "X,y=make_circles(n_samples,noise=0.03,random_state=42)\n",
        "\n",
        "import matplotlib.pyplot as plt\n",
        "plt.scatter(x=X[:,0],y=X[:,1],c=y,\n",
        "            cmap=plt.cm.RdYlBu)"
      ]
    },
    {
      "cell_type": "code",
      "execution_count": null,
      "metadata": {},
      "outputs": [],
      "source": [
        "import torch\n",
        "from sklearn.model_selection import train_test_split\n",
        "X=torch.from_numpy(X).type(torch.float)\n",
        "y=torch.from_numpy(y).type(torch.float)\n",
        "X_train,X_test,y_train,y_test=train_test_split(X,y,test_size=0.2,random_state=42)\n"
      ]
    },
    {
      "cell_type": "code",
      "execution_count": null,
      "metadata": {},
      "outputs": [],
      "source": [
        "#non-linear "
      ]
    },
    {
      "cell_type": "code",
      "execution_count": null,
      "metadata": {},
      "outputs": [],
      "source": [
        "from torch import nn\n",
        "class circlemodelv2(nn.Module):\n",
        "    def __init__(self):\n",
        "        super().__init__()\n",
        "        self.layer_1=nn.Linear(in_features=2,out_features=10)\n",
        "        self.layer_2=nn.Linear(in_features=10,out_features=10)\n",
        "        self.layer_3=nn.Linear(in_features=10,out_features=1)\n",
        "        self.relu=nn.ReLU()\n",
        "    def forward(self,x):\n",
        "        return self.layer_3(self.relu(self.layer_2(self.relu(self.layer_1(x)))))\n",
        "\n",
        "model_3=circlemodelv2().to(device)\n",
        "model_3"
      ]
    },
    {
      "cell_type": "code",
      "execution_count": null,
      "metadata": {},
      "outputs": [],
      "source": [
        "loss_fn=nn.BCEWithLogitsLoss()\n",
        "optimizer=torch.optim.SGD(model_3.parameters(),lr=0.1)"
      ]
    },
    {
      "cell_type": "code",
      "execution_count": null,
      "metadata": {},
      "outputs": [],
      "source": [
        "torch.manual_seed(42)\n",
        "X_train,y_train=X_train.to(device),y_train.to(device)\n",
        "X_test,y_test=X_test.to(device),y_test.to(device)\n",
        "\n",
        "epochs=3000\n",
        "for epoch in range(epochs):\n",
        "    model_3.train()\n",
        "    y_logits=model_3(X_train.to(device)).squeeze()\n",
        "    y_pred=torch.round(torch.sigmoid(y_logits))\n",
        "    loss=loss_fn(y_logits,y_train)\n",
        "    acc=accuracy_fn(y_true=y_train,y_preds=y_pred)\n",
        "    optimizer.zero_grad()\n",
        "    loss.backward()\n",
        "    optimizer.step()\n",
        "    model_3.eval()\n",
        "    with torch.inference_mode():\n",
        "        test_logits=model_3(X_test).squeeze()\n",
        "        test_pred=torch.round(torch.sigmoid(test_logits))\n",
        "        test_loss=loss_fn(test_logits,y_test)\n",
        "        test_acc=accuracy_fn(y_true=y_test,y_preds=test_pred)\n",
        "    if epoch%100==0:\n",
        "        print(f\"epoch:{epoch} | loss:{loss:.5f},acc:{acc:.2f}| test_loss:{test_loss:.5f},test_acc:{test_acc:.2f}\")"
      ]
    },
    {
      "cell_type": "code",
      "execution_count": null,
      "metadata": {},
      "outputs": [],
      "source": [
        "plt.figure(figsize=(12,6))\n",
        "plt.subplot(1,2,1)\n",
        "plt.title(\"train\")\n",
        "plot_decision_boundary(model_3,X_train,y_train)\n",
        "plt.subplot(1,2,2)\n",
        "plt.title(\"test\")\n",
        "plot_decision_boundary(model_3,X_test,y_test)"
      ]
    },
    {
      "cell_type": "code",
      "execution_count": null,
      "metadata": {},
      "outputs": [],
      "source": [
        "a=torch.arange(1,2,3,4,5,dtype=torch.float32)\n",
        "a,a.dtype"
      ]
    },
    {
      "cell_type": "code",
      "execution_count": null,
      "metadata": {},
      "outputs": [],
      "source": []
    }
  ],
  "metadata": {
    "accelerator": "GPU",
    "colab": {
      "authorship_tag": "ABX9TyNRrbZdTOtSxs+fs4XJ1cKc",
      "gpuType": "T4",
      "include_colab_link": true,
      "provenance": []
    },
    "kernelspec": {
      "display_name": "Python 3",
      "name": "python3"
    },
    "language_info": {
      "codemirror_mode": {
        "name": "ipython",
        "version": 3
      },
      "file_extension": ".py",
      "mimetype": "text/x-python",
      "name": "python",
      "nbconvert_exporter": "python",
      "pygments_lexer": "ipython3",
      "version": "3.12.0"
    }
  },
  "nbformat": 4,
  "nbformat_minor": 0
}
